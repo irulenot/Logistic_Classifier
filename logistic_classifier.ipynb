{
 "cells": [
  {
   "cell_type": "markdown",
   "metadata": {},
   "source": [
    "# Starting Objective\n",
    "### I'm going to create a logistic regression classifier. And add the normal equation in addition to gradient descent."
   ]
  },
  {
   "cell_type": "markdown",
   "metadata": {},
   "source": [
    "## Details\n",
    "- Convert from gradient descent to the normal equation\n",
    "- Convert prediction function by wrapping current with sigmoid function\n",
    "- Convert cost function and gradient descent for logistic regression\n",
    "- Regularize my input\n",
    "- Use advanced optimization algorithms"
   ]
  },
  {
   "cell_type": "code",
   "execution_count": 26,
   "metadata": {},
   "outputs": [],
   "source": [
    "from __future__ import division\n",
    "from scipy import special as scipy\n",
    "\n",
    "import numpy as np\n",
    "import math"
   ]
  },
  {
   "cell_type": "code",
   "execution_count": 31,
   "metadata": {},
   "outputs": [],
   "source": [
    "class LogisticClassifier:\n",
    "    \n",
    "    theta = [0, 0]\n",
    "    alpha = 0.01\n",
    "    epoch = 5\n",
    "\n",
    "    # Constructor\n",
    "    def __init__(self, theta_size=2, alpha=0.01, epoch=300, threshold=0.5):\n",
    "        self.theta = [0] * theta_size\n",
    "        self.alpha = alpha\n",
    "        self.epoch = epoch\n",
    "        self.threshold = threshold\n",
    "    \n",
    "    \n",
    "    # Given input x of length of j(theta_size-1)\n",
    "    # Returns m(#examples) x 1 matrix of yhat\n",
    "    def predict_linear(self, x):\n",
    "        x = np.insert(x, 0, 1, axis=1)\n",
    "        x = np.matrix(x)\n",
    "        theta = np.matrix(self.theta)\n",
    "        theta = theta.T\n",
    "        return np.matmul(x, theta)\n",
    "    \n",
    "    \n",
    "    def predict_logistic(self, x):\n",
    "        Yhat = scipy.expit(self.predict_linear(x))\n",
    "        \n",
    "        if len(x) == 1:\n",
    "            if Yhat >= 0.5:\n",
    "                Yhat = 1\n",
    "            else:\n",
    "                Yhat = 0\n",
    "        else:\n",
    "            Yhat = Yhat >= 0.5\n",
    "            \n",
    "        return Yhat\n",
    "\n",
    "    \n",
    "    # Given training data Xtr and Ytr\n",
    "    def train(self, Xtr, Ytr):        \n",
    "        Ytr = np.matrix(Ytr)\n",
    "        Xtr = np.matrix(Xtr)\n",
    "        Ytr = Ytr.T\n",
    "        self.gradient_des(Xtr, Ytr)\n",
    "        \n",
    "        \n",
    "    # Given predictions(Yhat) and correct labels(Yte)\n",
    "    # Returns squared error\n",
    "    def cost_fcn(self, Yhat, Yte):\n",
    "        squared_error = (Yhat - Yte)**2\n",
    "        b = 1/(Yhat.size*2)\n",
    "        return b * np.sum(squared_error, 0)\n",
    "    \n",
    "    \n",
    "    # Given training data Xtr and Ytr\n",
    "    # Graphs error over iterations of gradient descent\n",
    "    def gradient_des(self, Xtr, Ytr):\n",
    "#         j2 = np.zeros(self.epoch)\n",
    "#         i2 = np.zeros(self.epoch)\n",
    "        for i in range(0, self.epoch):\n",
    "            Yhat = self.predict_logistic(Xtr)\n",
    "            Ytr = np.matrix(Ytr)\n",
    "            Xtr = np.matrix(Xtr)\n",
    "            \n",
    "            size = Xtr.shape[1]\n",
    "            print(math.log(1.-Yhat))\n",
    "            self.theta -= self.alpha * (-1/size) * (np.sum( (Ytr)*math.log(Yhat) + (1-Ytr)*math.log(1-Yhat) ))\n",
    "#             j2[i] = self.cost_fcn(Yhat.A1, Ytr.A1)  # .A1 turns matrix -> array\n",
    "#             i2[i] = i\n",
    "#         plt.xlabel(\"Iterations\")\n",
    "#         plt.ylabel(\"Error\")\n",
    "#         plt.plot(i2, j2)"
   ]
  },
  {
   "cell_type": "code",
   "execution_count": 32,
   "metadata": {},
   "outputs": [
    {
     "ename": "TypeError",
     "evalue": "only size-1 arrays can be converted to Python scalars",
     "output_type": "error",
     "traceback": [
      "\u001b[0;31m---------------------------------------------------------------------------\u001b[0m",
      "\u001b[0;31mTypeError\u001b[0m                                 Traceback (most recent call last)",
      "\u001b[0;32m<ipython-input-32-f15b50e03dc9>\u001b[0m in \u001b[0;36m<module>\u001b[0;34m()\u001b[0m\n\u001b[1;32m      9\u001b[0m \u001b[0;34m\u001b[0m\u001b[0m\n\u001b[1;32m     10\u001b[0m \u001b[0mmodel\u001b[0m \u001b[0;34m=\u001b[0m \u001b[0mLogisticClassifier\u001b[0m\u001b[0;34m(\u001b[0m\u001b[0;34m)\u001b[0m\u001b[0;34m\u001b[0m\u001b[0m\n\u001b[0;32m---> 11\u001b[0;31m \u001b[0mmodel\u001b[0m\u001b[0;34m.\u001b[0m\u001b[0mtrain\u001b[0m\u001b[0;34m(\u001b[0m\u001b[0mXtr\u001b[0m\u001b[0;34m,\u001b[0m \u001b[0mYtr\u001b[0m\u001b[0;34m)\u001b[0m\u001b[0;34m\u001b[0m\u001b[0m\n\u001b[0m\u001b[1;32m     12\u001b[0m \u001b[0mprint\u001b[0m\u001b[0;34m(\u001b[0m\u001b[0mmodel\u001b[0m\u001b[0;34m.\u001b[0m\u001b[0mpredict_logistic\u001b[0m\u001b[0;34m(\u001b[0m\u001b[0mXte\u001b[0m\u001b[0;34m)\u001b[0m\u001b[0;34m)\u001b[0m\u001b[0;34m\u001b[0m\u001b[0m\n",
      "\u001b[0;32m<ipython-input-31-c672384c51c2>\u001b[0m in \u001b[0;36mtrain\u001b[0;34m(self, Xtr, Ytr)\u001b[0m\n\u001b[1;32m     45\u001b[0m         \u001b[0mXtr\u001b[0m \u001b[0;34m=\u001b[0m \u001b[0mnp\u001b[0m\u001b[0;34m.\u001b[0m\u001b[0mmatrix\u001b[0m\u001b[0;34m(\u001b[0m\u001b[0mXtr\u001b[0m\u001b[0;34m)\u001b[0m\u001b[0;34m\u001b[0m\u001b[0m\n\u001b[1;32m     46\u001b[0m         \u001b[0mYtr\u001b[0m \u001b[0;34m=\u001b[0m \u001b[0mYtr\u001b[0m\u001b[0;34m.\u001b[0m\u001b[0mT\u001b[0m\u001b[0;34m\u001b[0m\u001b[0m\n\u001b[0;32m---> 47\u001b[0;31m         \u001b[0mself\u001b[0m\u001b[0;34m.\u001b[0m\u001b[0mgradient_des\u001b[0m\u001b[0;34m(\u001b[0m\u001b[0mXtr\u001b[0m\u001b[0;34m,\u001b[0m \u001b[0mYtr\u001b[0m\u001b[0;34m)\u001b[0m\u001b[0;34m\u001b[0m\u001b[0m\n\u001b[0m\u001b[1;32m     48\u001b[0m \u001b[0;34m\u001b[0m\u001b[0m\n\u001b[1;32m     49\u001b[0m \u001b[0;34m\u001b[0m\u001b[0m\n",
      "\u001b[0;32m<ipython-input-31-c672384c51c2>\u001b[0m in \u001b[0;36mgradient_des\u001b[0;34m(self, Xtr, Ytr)\u001b[0m\n\u001b[1;32m     65\u001b[0m             \u001b[0mYhat\u001b[0m \u001b[0;34m=\u001b[0m \u001b[0mself\u001b[0m\u001b[0;34m.\u001b[0m\u001b[0mpredict_logistic\u001b[0m\u001b[0;34m(\u001b[0m\u001b[0mXtr\u001b[0m\u001b[0;34m)\u001b[0m\u001b[0;34m\u001b[0m\u001b[0m\n\u001b[1;32m     66\u001b[0m             \u001b[0msize\u001b[0m \u001b[0;34m=\u001b[0m \u001b[0mXtr\u001b[0m\u001b[0;34m.\u001b[0m\u001b[0mshape\u001b[0m\u001b[0;34m[\u001b[0m\u001b[0;36m1\u001b[0m\u001b[0;34m]\u001b[0m\u001b[0;34m\u001b[0m\u001b[0m\n\u001b[0;32m---> 67\u001b[0;31m             \u001b[0mprint\u001b[0m\u001b[0;34m(\u001b[0m\u001b[0mmath\u001b[0m\u001b[0;34m.\u001b[0m\u001b[0mlog\u001b[0m\u001b[0;34m(\u001b[0m\u001b[0;36m1.\u001b[0m\u001b[0;34m-\u001b[0m\u001b[0mYhat\u001b[0m\u001b[0;34m)\u001b[0m\u001b[0;34m)\u001b[0m\u001b[0;34m\u001b[0m\u001b[0m\n\u001b[0m\u001b[1;32m     68\u001b[0m             \u001b[0mself\u001b[0m\u001b[0;34m.\u001b[0m\u001b[0mtheta\u001b[0m \u001b[0;34m-=\u001b[0m \u001b[0mself\u001b[0m\u001b[0;34m.\u001b[0m\u001b[0malpha\u001b[0m \u001b[0;34m*\u001b[0m \u001b[0;34m(\u001b[0m\u001b[0;34m-\u001b[0m\u001b[0;36m1\u001b[0m\u001b[0;34m/\u001b[0m\u001b[0msize\u001b[0m\u001b[0;34m)\u001b[0m \u001b[0;34m*\u001b[0m \u001b[0;34m(\u001b[0m\u001b[0mnp\u001b[0m\u001b[0;34m.\u001b[0m\u001b[0msum\u001b[0m\u001b[0;34m(\u001b[0m \u001b[0;34m(\u001b[0m\u001b[0mYtr\u001b[0m\u001b[0;34m)\u001b[0m\u001b[0;34m*\u001b[0m\u001b[0mmath\u001b[0m\u001b[0;34m.\u001b[0m\u001b[0mlog\u001b[0m\u001b[0;34m(\u001b[0m\u001b[0mYhat\u001b[0m\u001b[0;34m)\u001b[0m \u001b[0;34m+\u001b[0m \u001b[0;34m(\u001b[0m\u001b[0;36m1\u001b[0m\u001b[0;34m-\u001b[0m\u001b[0mYtr\u001b[0m\u001b[0;34m)\u001b[0m\u001b[0;34m*\u001b[0m\u001b[0mmath\u001b[0m\u001b[0;34m.\u001b[0m\u001b[0mlog\u001b[0m\u001b[0;34m(\u001b[0m\u001b[0;36m1\u001b[0m\u001b[0;34m-\u001b[0m\u001b[0mYhat\u001b[0m\u001b[0;34m)\u001b[0m \u001b[0;34m)\u001b[0m\u001b[0;34m)\u001b[0m\u001b[0;34m\u001b[0m\u001b[0m\n\u001b[1;32m     69\u001b[0m \u001b[0;31m#             j2[i] = self.cost_fcn(Yhat.A1, Ytr.A1)  # .A1 turns matrix -> array\u001b[0m\u001b[0;34m\u001b[0m\u001b[0;34m\u001b[0m\u001b[0m\n",
      "\u001b[0;31mTypeError\u001b[0m: only size-1 arrays can be converted to Python scalars"
     ]
    }
   ],
   "source": [
    "# theta = []\n",
    "\n",
    "X = [[10], [20], [30], [40], [50], [60], [15]]\n",
    "Y = [1, 1, 1, 0, 0, 1]\n",
    "Xtr = X[0:5]\n",
    "Ytr = Y[0:5]\n",
    "Xte = X[5:6]\n",
    "Yte = Y[5:6]\n",
    "\n",
    "model = LogisticClassifier()\n",
    "model.train(Xtr, Ytr)\n",
    "print(model.predict_logistic(Xte))"
   ]
  },
  {
   "cell_type": "markdown",
   "metadata": {},
   "source": [
    "Converting to logistic gradient descent which is a tad more fancy"
   ]
  }
 ],
 "metadata": {
  "kernelspec": {
   "display_name": "Python 3",
   "language": "python",
   "name": "python3"
  },
  "language_info": {
   "codemirror_mode": {
    "name": "ipython",
    "version": 3
   },
   "file_extension": ".py",
   "mimetype": "text/x-python",
   "name": "python",
   "nbconvert_exporter": "python",
   "pygments_lexer": "ipython3",
   "version": "3.6.4"
  }
 },
 "nbformat": 4,
 "nbformat_minor": 2
}
