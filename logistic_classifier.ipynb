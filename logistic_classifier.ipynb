{
 "cells": [
  {
   "cell_type": "markdown",
   "metadata": {},
   "source": [
    "# Starting Objective\n",
    "### I'm going to create a logistic regression classifier. And add the normal equation in addition to gradient descent."
   ]
  },
  {
   "cell_type": "markdown",
   "metadata": {},
   "source": [
    "## Details\n",
    "- Convert from gradient descent to the normal equation\n",
    "- Convert prediction function by wrapping current with sigmoid function\n",
    "- Convert cost function and gradient descent for logistic regression\n",
    "- Regularize my input\n",
    "- Use advanced optimization algorithms"
   ]
  },
  {
   "cell_type": "code",
   "execution_count": 1,
   "metadata": {},
   "outputs": [],
   "source": [
    "from __future__ import division\n",
    "from scipy import special as scipy\n",
    "\n",
    "import numpy as np\n",
    "import math"
   ]
  },
  {
   "cell_type": "code",
   "execution_count": 60,
   "metadata": {},
   "outputs": [
    {
     "ename": "SyntaxError",
     "evalue": "can't assign to function call (<ipython-input-60-355f69c53e01>, line 27)",
     "output_type": "error",
     "traceback": [
      "\u001b[0;36m  File \u001b[0;32m\"<ipython-input-60-355f69c53e01>\"\u001b[0;36m, line \u001b[0;32m27\u001b[0m\n\u001b[0;31m    x.item(a) = 1 / (1 + math.item(a))\u001b[0m\n\u001b[0m    ^\u001b[0m\n\u001b[0;31mSyntaxError\u001b[0m\u001b[0;31m:\u001b[0m can't assign to function call\n"
     ]
    }
   ],
   "source": [
    "# class LogisticClassifier:\n",
    "    \n",
    "#     theta = [0, 0]\n",
    "#     alpha = 0.01\n",
    "#     epoch = 300\n",
    "\n",
    "#     # Constructor\n",
    "#     def __init__(self, theta_size=2, alpha=0.01, epoch=5, threshold=0.5):\n",
    "#         self.theta = [0] * theta_size\n",
    "#         self.alpha = alpha\n",
    "#         self.epoch = epoch\n",
    "#         self.threshold = threshold\n",
    "    \n",
    "    \n",
    "#     # Given input x of length of j(theta_size-1)\n",
    "#     # Returns m(#examples) x 1 matrix of yhat\n",
    "#     def predict_linear(self, x):\n",
    "#         x = np.insert(x, 0, 1, axis=1)\n",
    "#         x = np.matrix(x)\n",
    "#         theta = np.matrix(self.theta)\n",
    "#         theta = theta.T\n",
    "#         return np.matmul(x, theta)\n",
    "\n",
    "    \n",
    "#     def sigmoid(self, x):\n",
    "#         for a in range(x.shape[5]):\n",
    "#                 x.item(a) = 1 / (1 + math.item(a))\n",
    "#         return x\n",
    "    \n",
    "    \n",
    "#     # Given training data Xtr and Ytr\n",
    "#     def train(self, Xtr, Ytr):        \n",
    "#         Ytr = np.matrix(Ytr)\n",
    "#         Xtr = np.matrix(Xtr)\n",
    "#         Ytr = Ytr.T\n",
    "#         self.gradient_des(Xtr, Ytr)\n",
    "        \n",
    "        \n",
    "#     # Given predictions(Yhat) and correct labels(Yte)\n",
    "#     # Returns squared error\n",
    "#     def cost_fcn(self, Yhat, Yte):\n",
    "#         squared_error = (Yhat - Yte)**2\n",
    "#         b = 1/(Yhat.size*2)\n",
    "#         return b * np.sum(squared_error, 0)\n",
    "    \n",
    "    \n",
    "#     # Given training data Xtr and Ytr\n",
    "#     # Graphs error over iterations of gradient descent\n",
    "#     def gradient_des(self, Xtr, Ytr):\n",
    "# #         j2 = np.zeros(self.epoch)\n",
    "# #         i2 = np.zeros(self.epoch)\n",
    "#         for i in range(0, self.epoch):\n",
    "#             Yhat = self.predict_linear(Xtr)\n",
    "# #             print(Yhat)\n",
    "#             Yhat = self.sigmoid(Yhat)\n",
    "#             print(Yhat)\n",
    "#             Ytr = np.matrix(Ytr)\n",
    "#             Xtr = np.matrix(Xtr)\n",
    "            \n",
    "#             self.theta -= self.alpha * (Yhat - Ytr) * Xtr\n",
    "# #             j2[i] = self.cost_fcn(Yhat.A1, Ytr.A1)  # .A1 turns matrix -> array\n",
    "# #             i2[i] = i\n",
    "# #         plt.xlabel(\"Iterations\")\n",
    "# #         plt.ylabel(\"Error\")\n",
    "# #         plt.plot(i2, j2)"
   ]
  },
  {
   "cell_type": "code",
   "execution_count": 61,
   "metadata": {},
   "outputs": [
    {
     "name": "stdout",
     "output_type": "stream",
     "text": [
      "[[0]]\n",
      "[[0]]\n",
      "[[0]]\n",
      "[[0]]\n",
      "[[0]]\n"
     ]
    },
    {
     "ename": "ValueError",
     "evalue": "shapes (5,1) and (5,1) not aligned: 1 (dim 1) != 5 (dim 0)",
     "output_type": "error",
     "traceback": [
      "\u001b[0;31m---------------------------------------------------------------------------\u001b[0m",
      "\u001b[0;31mValueError\u001b[0m                                Traceback (most recent call last)",
      "\u001b[0;32m<ipython-input-61-f15b50e03dc9>\u001b[0m in \u001b[0;36m<module>\u001b[0;34m()\u001b[0m\n\u001b[1;32m      9\u001b[0m \u001b[0;34m\u001b[0m\u001b[0m\n\u001b[1;32m     10\u001b[0m \u001b[0mmodel\u001b[0m \u001b[0;34m=\u001b[0m \u001b[0mLogisticClassifier\u001b[0m\u001b[0;34m(\u001b[0m\u001b[0;34m)\u001b[0m\u001b[0;34m\u001b[0m\u001b[0m\n\u001b[0;32m---> 11\u001b[0;31m \u001b[0mmodel\u001b[0m\u001b[0;34m.\u001b[0m\u001b[0mtrain\u001b[0m\u001b[0;34m(\u001b[0m\u001b[0mXtr\u001b[0m\u001b[0;34m,\u001b[0m \u001b[0mYtr\u001b[0m\u001b[0;34m)\u001b[0m\u001b[0;34m\u001b[0m\u001b[0m\n\u001b[0m\u001b[1;32m     12\u001b[0m \u001b[0mprint\u001b[0m\u001b[0;34m(\u001b[0m\u001b[0mmodel\u001b[0m\u001b[0;34m.\u001b[0m\u001b[0mpredict_logistic\u001b[0m\u001b[0;34m(\u001b[0m\u001b[0mXte\u001b[0m\u001b[0;34m)\u001b[0m\u001b[0;34m)\u001b[0m\u001b[0;34m\u001b[0m\u001b[0m\n",
      "\u001b[0;32m<ipython-input-54-21373e6ce7c0>\u001b[0m in \u001b[0;36mtrain\u001b[0;34m(self, Xtr, Ytr)\u001b[0m\n\u001b[1;32m     36\u001b[0m         \u001b[0mXtr\u001b[0m \u001b[0;34m=\u001b[0m \u001b[0mnp\u001b[0m\u001b[0;34m.\u001b[0m\u001b[0mmatrix\u001b[0m\u001b[0;34m(\u001b[0m\u001b[0mXtr\u001b[0m\u001b[0;34m)\u001b[0m\u001b[0;34m\u001b[0m\u001b[0m\n\u001b[1;32m     37\u001b[0m         \u001b[0mYtr\u001b[0m \u001b[0;34m=\u001b[0m \u001b[0mYtr\u001b[0m\u001b[0;34m.\u001b[0m\u001b[0mT\u001b[0m\u001b[0;34m\u001b[0m\u001b[0m\n\u001b[0;32m---> 38\u001b[0;31m         \u001b[0mself\u001b[0m\u001b[0;34m.\u001b[0m\u001b[0mgradient_des\u001b[0m\u001b[0;34m(\u001b[0m\u001b[0mXtr\u001b[0m\u001b[0;34m,\u001b[0m \u001b[0mYtr\u001b[0m\u001b[0;34m)\u001b[0m\u001b[0;34m\u001b[0m\u001b[0m\n\u001b[0m\u001b[1;32m     39\u001b[0m \u001b[0;34m\u001b[0m\u001b[0m\n\u001b[1;32m     40\u001b[0m \u001b[0;34m\u001b[0m\u001b[0m\n",
      "\u001b[0;32m<ipython-input-54-21373e6ce7c0>\u001b[0m in \u001b[0;36mgradient_des\u001b[0;34m(self, Xtr, Ytr)\u001b[0m\n\u001b[1;32m     60\u001b[0m             \u001b[0mXtr\u001b[0m \u001b[0;34m=\u001b[0m \u001b[0mnp\u001b[0m\u001b[0;34m.\u001b[0m\u001b[0mmatrix\u001b[0m\u001b[0;34m(\u001b[0m\u001b[0mXtr\u001b[0m\u001b[0;34m)\u001b[0m\u001b[0;34m\u001b[0m\u001b[0m\n\u001b[1;32m     61\u001b[0m \u001b[0;34m\u001b[0m\u001b[0m\n\u001b[0;32m---> 62\u001b[0;31m             \u001b[0mself\u001b[0m\u001b[0;34m.\u001b[0m\u001b[0mtheta\u001b[0m \u001b[0;34m-=\u001b[0m \u001b[0mself\u001b[0m\u001b[0;34m.\u001b[0m\u001b[0malpha\u001b[0m \u001b[0;34m*\u001b[0m \u001b[0;34m(\u001b[0m\u001b[0mYhat\u001b[0m \u001b[0;34m-\u001b[0m \u001b[0mYtr\u001b[0m\u001b[0;34m)\u001b[0m \u001b[0;34m*\u001b[0m \u001b[0mXtr\u001b[0m\u001b[0;34m\u001b[0m\u001b[0m\n\u001b[0m\u001b[1;32m     63\u001b[0m \u001b[0;31m#             j2[i] = self.cost_fcn(Yhat.A1, Ytr.A1)  # .A1 turns matrix -> array\u001b[0m\u001b[0;34m\u001b[0m\u001b[0;34m\u001b[0m\u001b[0m\n\u001b[1;32m     64\u001b[0m \u001b[0;31m#             i2[i] = i\u001b[0m\u001b[0;34m\u001b[0m\u001b[0;34m\u001b[0m\u001b[0m\n",
      "\u001b[0;32m/anaconda3/lib/python3.6/site-packages/numpy/matrixlib/defmatrix.py\u001b[0m in \u001b[0;36m__mul__\u001b[0;34m(self, other)\u001b[0m\n\u001b[1;32m    307\u001b[0m         \u001b[0;32mif\u001b[0m \u001b[0misinstance\u001b[0m\u001b[0;34m(\u001b[0m\u001b[0mother\u001b[0m\u001b[0;34m,\u001b[0m \u001b[0;34m(\u001b[0m\u001b[0mN\u001b[0m\u001b[0;34m.\u001b[0m\u001b[0mndarray\u001b[0m\u001b[0;34m,\u001b[0m \u001b[0mlist\u001b[0m\u001b[0;34m,\u001b[0m \u001b[0mtuple\u001b[0m\u001b[0;34m)\u001b[0m\u001b[0;34m)\u001b[0m \u001b[0;34m:\u001b[0m\u001b[0;34m\u001b[0m\u001b[0m\n\u001b[1;32m    308\u001b[0m             \u001b[0;31m# This promotes 1-D vectors to row vectors\u001b[0m\u001b[0;34m\u001b[0m\u001b[0;34m\u001b[0m\u001b[0m\n\u001b[0;32m--> 309\u001b[0;31m             \u001b[0;32mreturn\u001b[0m \u001b[0mN\u001b[0m\u001b[0;34m.\u001b[0m\u001b[0mdot\u001b[0m\u001b[0;34m(\u001b[0m\u001b[0mself\u001b[0m\u001b[0;34m,\u001b[0m \u001b[0masmatrix\u001b[0m\u001b[0;34m(\u001b[0m\u001b[0mother\u001b[0m\u001b[0;34m)\u001b[0m\u001b[0;34m)\u001b[0m\u001b[0;34m\u001b[0m\u001b[0m\n\u001b[0m\u001b[1;32m    310\u001b[0m         \u001b[0;32mif\u001b[0m \u001b[0misscalar\u001b[0m\u001b[0;34m(\u001b[0m\u001b[0mother\u001b[0m\u001b[0;34m)\u001b[0m \u001b[0;32mor\u001b[0m \u001b[0;32mnot\u001b[0m \u001b[0mhasattr\u001b[0m\u001b[0;34m(\u001b[0m\u001b[0mother\u001b[0m\u001b[0;34m,\u001b[0m \u001b[0;34m'__rmul__'\u001b[0m\u001b[0;34m)\u001b[0m \u001b[0;34m:\u001b[0m\u001b[0;34m\u001b[0m\u001b[0m\n\u001b[1;32m    311\u001b[0m             \u001b[0;32mreturn\u001b[0m \u001b[0mN\u001b[0m\u001b[0;34m.\u001b[0m\u001b[0mdot\u001b[0m\u001b[0;34m(\u001b[0m\u001b[0mself\u001b[0m\u001b[0;34m,\u001b[0m \u001b[0mother\u001b[0m\u001b[0;34m)\u001b[0m\u001b[0;34m\u001b[0m\u001b[0m\n",
      "\u001b[0;31mValueError\u001b[0m: shapes (5,1) and (5,1) not aligned: 1 (dim 1) != 5 (dim 0)"
     ]
    }
   ],
   "source": [
    "# # theta = []\n",
    "\n",
    "# X = [[10], [20], [30], [40], [50], [60], [15]]\n",
    "# Y = [1, 1, 1, 0, 0, 1]\n",
    "# Xtr = X[0:5]\n",
    "# Ytr = Y[0:5]\n",
    "# Xte = X[5:6]\n",
    "# Yte = Y[5:6]\n",
    "\n",
    "# model = LogisticClassifier()\n",
    "# model.train(Xtr, Ytr)\n",
    "# print(model.predict_logistic(Xte))"
   ]
  },
  {
   "cell_type": "markdown",
   "metadata": {},
   "source": [
    "### Ok... compared to Octave this is quite impractical. I'm going to switch over to tensorflow. This sigmoid function that can't be applied to a matrix in a vectorized fashion is lame. \n",
    "\n",
    "### Going to expand it to another repo, then come back here."
   ]
  },
  {
   "cell_type": "markdown",
   "metadata": {},
   "source": [
    "### Ok, just read the TensorFlow documentation. Let's try this again"
   ]
  },
  {
   "cell_type": "code",
   "execution_count": 304,
   "metadata": {},
   "outputs": [
    {
     "ename": "ModuleNotFoundError",
     "evalue": "No module named 'matplotlib'",
     "output_type": "error",
     "traceback": [
      "\u001b[0;31m---------------------------------------------------------------------------\u001b[0m",
      "\u001b[0;31mModuleNotFoundError\u001b[0m                       Traceback (most recent call last)",
      "\u001b[0;32m<ipython-input-304-78507fb34470>\u001b[0m in \u001b[0;36m<module>\u001b[0;34m()\u001b[0m\n\u001b[1;32m      5\u001b[0m \u001b[0;32mimport\u001b[0m \u001b[0mnumpy\u001b[0m \u001b[0;32mas\u001b[0m \u001b[0mnp\u001b[0m\u001b[0;34m\u001b[0m\u001b[0m\n\u001b[1;32m      6\u001b[0m \u001b[0;32mimport\u001b[0m \u001b[0mtensorflow\u001b[0m \u001b[0;32mas\u001b[0m \u001b[0mtf\u001b[0m\u001b[0;34m\u001b[0m\u001b[0m\n\u001b[0;32m----> 7\u001b[0;31m \u001b[0;32mimport\u001b[0m \u001b[0mmatplotlib\u001b[0m\u001b[0;34m.\u001b[0m\u001b[0mpyplot\u001b[0m \u001b[0;32mas\u001b[0m \u001b[0mplt\u001b[0m\u001b[0;34m\u001b[0m\u001b[0m\n\u001b[0m\u001b[1;32m      8\u001b[0m \u001b[0;32mfrom\u001b[0m \u001b[0mrandom\u001b[0m \u001b[0;32mimport\u001b[0m \u001b[0muniform\u001b[0m\u001b[0;34m,\u001b[0m \u001b[0mrandint\u001b[0m\u001b[0;34m\u001b[0m\u001b[0m\n",
      "\u001b[0;31mModuleNotFoundError\u001b[0m: No module named 'matplotlib'"
     ]
    }
   ],
   "source": [
    "from __future__ import absolute_import\n",
    "from __future__ import division\n",
    "from __future__ import print_function\n",
    "\n",
    "import numpy as np\n",
    "import tensorflow as tf\n",
    "import matplotlib.pyplot as plt\n",
    "from random import uniform, randint"
   ]
  },
  {
   "cell_type": "code",
   "execution_count": 298,
   "metadata": {},
   "outputs": [],
   "source": [
    "class LinearClassifier:\n",
    "\n",
    "    weights = tf.random_uniform([1,2], dtype=tf.float32)\n",
    "    learning_rate = uniform(0.0001, 0.01)\n",
    "    epoch = randint(10, 300)\n",
    "\n",
    "    \n",
    "    # Initalizes parameters for new model\n",
    "    def init(self, new_weights, new_alpha, new_epoch):\n",
    "        self.theta = new_weights\n",
    "        self.alpha = new_alpha\n",
    "        self.epoch = new_epoch    \n",
    "    \n",
    "    \n",
    "    # Given Xhat (Examples x Features)\n",
    "    # Where Xhat has a rank of 2\n",
    "    # Returns Yhat (Labels x 1)\n",
    "    def predict(self, X):\n",
    "        ones = tf.ones([tf.shape(X)[0], 1], tf.float32)\n",
    "        x = tf.concat([ones, X], 1)\n",
    "        x = tf.matmul(x, tf.transpose(self.weights))\n",
    "        return x\n",
    "        \n",
    "        \n",
    "    # Given predictions(Yhat) and correct labels(Yte)\n",
    "    # Returns squared mean error\n",
    "    def cost(self, Yhat, Y):\n",
    "        squared_error = (Yhat - Y)**2\n",
    "        b = 1/tf.shape(Yhat)[0]   \n",
    "        return tf.cast(b, tf.float32) * tf.reduce_sum(squared_error)\n",
    "    \n",
    "    \n",
    "    # Given training data X and Y\n",
    "    # Updates weights with gradient descent\n",
    "    def train(self, X, Y):\n",
    "        for i in range(0, self.epoch):\n",
    "            Yhat = self.predict(X)\n",
    "            self.weights -= self.learning_rate * tf.transpose(Yhat - Y) * tf.transpose(X)\n",
    "            \n",
    "            \n",
    "    def train_curve(self, X, Y):\n",
    "        c = np.zeros(self.epoch)\n",
    "        it = np.zeros(self.epoch)\n",
    "        \n",
    "        for i in range(0, self.epoch):\n",
    "            Yhat = self.predict(X)\n",
    "            self.weights -= self.learning_rate * tf.transpose(Yhat - Y) * tf.transpose(X)\n",
    "            \n",
    "            c[i] = cost(Yhat, Y)\n",
    "            it[i] = i"
   ]
  },
  {
   "cell_type": "code",
   "execution_count": 299,
   "metadata": {},
   "outputs": [
    {
     "name": "stdout",
     "output_type": "stream",
     "text": [
      "Input\n",
      "[[10.]\n",
      " [15.]]\n",
      "\n",
      "Weights and epoch and learning rate\n",
      "[[0.17383718 0.9929056 ]]\n",
      "89\n",
      "0.0010034626\n",
      "\n",
      "Correct Weights\n",
      "[[2 2]]\n"
     ]
    },
    {
     "ename": "TypeError",
     "evalue": "'Tensor' object is not callable",
     "output_type": "error",
     "traceback": [
      "\u001b[0;31m---------------------------------------------------------------------------\u001b[0m",
      "\u001b[0;31mTypeError\u001b[0m                                 Traceback (most recent call last)",
      "\u001b[0;32m<ipython-input-299-b7cb0112d57b>\u001b[0m in \u001b[0;36m<module>\u001b[0;34m()\u001b[0m\n\u001b[1;32m     28\u001b[0m     \u001b[0mprint\u001b[0m\u001b[0;34m(\u001b[0m\u001b[0;34m\"[[2 2]]\"\u001b[0m\u001b[0;34m)\u001b[0m\u001b[0;34m\u001b[0m\u001b[0m\n\u001b[1;32m     29\u001b[0m \u001b[0;34m\u001b[0m\u001b[0m\n\u001b[0;32m---> 30\u001b[0;31m     \u001b[0mmodel\u001b[0m\u001b[0;34m.\u001b[0m\u001b[0mtrain_curve\u001b[0m\u001b[0;34m(\u001b[0m\u001b[0mX\u001b[0m\u001b[0;34m,\u001b[0m \u001b[0mY\u001b[0m\u001b[0;34m)\u001b[0m\u001b[0;34m\u001b[0m\u001b[0m\n\u001b[0m",
      "\u001b[0;32m<ipython-input-298-456e93192143>\u001b[0m in \u001b[0;36mtrain_curve\u001b[0;34m(self, X, Y)\u001b[0m\n\u001b[1;32m     47\u001b[0m             \u001b[0mself\u001b[0m\u001b[0;34m.\u001b[0m\u001b[0mweights\u001b[0m \u001b[0;34m-=\u001b[0m \u001b[0mself\u001b[0m\u001b[0;34m.\u001b[0m\u001b[0mlearning_rate\u001b[0m \u001b[0;34m*\u001b[0m \u001b[0mtf\u001b[0m\u001b[0;34m.\u001b[0m\u001b[0mtranspose\u001b[0m\u001b[0;34m(\u001b[0m\u001b[0mYhat\u001b[0m \u001b[0;34m-\u001b[0m \u001b[0mY\u001b[0m\u001b[0;34m)\u001b[0m \u001b[0;34m*\u001b[0m \u001b[0mtf\u001b[0m\u001b[0;34m.\u001b[0m\u001b[0mtranspose\u001b[0m\u001b[0;34m(\u001b[0m\u001b[0mX\u001b[0m\u001b[0;34m)\u001b[0m\u001b[0;34m\u001b[0m\u001b[0m\n\u001b[1;32m     48\u001b[0m \u001b[0;34m\u001b[0m\u001b[0m\n\u001b[0;32m---> 49\u001b[0;31m             \u001b[0mc\u001b[0m\u001b[0;34m[\u001b[0m\u001b[0mi\u001b[0m\u001b[0;34m]\u001b[0m \u001b[0;34m=\u001b[0m \u001b[0mcost\u001b[0m\u001b[0;34m(\u001b[0m\u001b[0mYhat\u001b[0m\u001b[0;34m,\u001b[0m \u001b[0mY\u001b[0m\u001b[0;34m)\u001b[0m\u001b[0;34m\u001b[0m\u001b[0m\n\u001b[0m\u001b[1;32m     50\u001b[0m             \u001b[0mit\u001b[0m\u001b[0;34m[\u001b[0m\u001b[0mi\u001b[0m\u001b[0;34m]\u001b[0m \u001b[0;34m=\u001b[0m \u001b[0mi\u001b[0m\u001b[0;34m\u001b[0m\u001b[0m\n\u001b[1;32m     51\u001b[0m \u001b[0;34m\u001b[0m\u001b[0m\n",
      "\u001b[0;31mTypeError\u001b[0m: 'Tensor' object is not callable"
     ]
    }
   ],
   "source": [
    "# TESTING TRAIN FUNCTION\n",
    "\n",
    "with tf.Session() as sess:\n",
    "    X = tf.Variable([[10],[15]], dtype=tf.float32)\n",
    "    Y = tf.Variable([[20],[30]], dtype=tf.float32) \n",
    "    sess.run(tf.global_variables_initializer())\n",
    "    \n",
    "    model = LinearClassifier()    \n",
    "    Yhat = model.predict(X)\n",
    "\n",
    "    print(\"Input\")\n",
    "    r = X\n",
    "    t = tf.Print(r, [r])\n",
    "    print(sess.run(t))\n",
    "    \n",
    "    print(\"\\nWeights and epoch and learning rate\")\n",
    "    r = model.weights\n",
    "    t = tf.Print(r, [r])\n",
    "    r2 = model.epoch\n",
    "    t2 = tf.Print(r2, [r2])\n",
    "    r3 = model.learning_rate\n",
    "    t3 = tf.Print(r3, [r3])\n",
    "    print(sess.run(t))\n",
    "    print(sess.run(t2))\n",
    "    print(sess.run(t3))\n",
    "\n",
    "    print(\"\\nCorrect Weights\")\n",
    "    print(\"[[2 2]]\")\n",
    "    \n",
    "    for i in range(0, self.epoch):\n",
    "        \n",
    "    plt.xlabel(\"Iterations\")\n",
    "    plt.ylabel(\"Error\")\n",
    "    plt.plot(c, it)"
   ]
  },
  {
   "cell_type": "code",
   "execution_count": 289,
   "metadata": {},
   "outputs": [
    {
     "name": "stdout",
     "output_type": "stream",
     "text": [
      "Input\n",
      "[[ 7.]\n",
      " [11.]]\n",
      "\n",
      "Weights\n",
      "[[0.04988587 0.04838717]]\n",
      "\n",
      "Yhat vs Y\n",
      "[2.9521122] vs [14.]\n",
      "[7.9208655] vs [22.]\n",
      "\n",
      "Expected Cost\n",
      "[166.36607]\n",
      "\n",
      "Cost\n",
      "232.7174835205078\n",
      "\n",
      "Thus squared mean error (COST) works\n"
     ]
    }
   ],
   "source": [
    "# TESTING COST FUNCTION\n",
    "\n",
    "with tf.Session() as sess:\n",
    "    X = tf.Variable([[7],[11]], dtype=tf.float32)\n",
    "    Y = tf.Variable([[14],[22]], dtype=tf.float32)\n",
    "    sess.run(tf.global_variables_initializer())\n",
    "    \n",
    "    model = LinearClassifier()\n",
    "    Yhat = model.predict(X)\n",
    "    cost = model.cost(Yhat, Y)\n",
    "\n",
    "    print(\"Input\")\n",
    "    r = X\n",
    "    t = tf.Print(r, [r])\n",
    "    print(sess.run(t))\n",
    "    \n",
    "    print(\"\\nWeights\")\n",
    "    r = model.weights\n",
    "    t = tf.Print(r, [r])\n",
    "    print(sess.run(t))\n",
    "\n",
    "    print(\"\\nYhat vs Y\")\n",
    "    r = Y\n",
    "    t = tf.Print(r, [r])\n",
    "    r2 = Yhat\n",
    "    t2 = tf.Print(r2, [r2])\n",
    "    print(\"{} vs {}\".format(sess.run(t2)[0], sess.run(t)[0]))\n",
    "    print(\"{} vs {}\".format(sess.run(t2)[1], sess.run(t)[1]))\n",
    "\n",
    "    print(\"\\nExpected Cost\")\n",
    "    r = ((Yhat[0]-14)**2 + (Yhat[1]-22)**2)/2\n",
    "    t = tf.Print(r, [r])\n",
    "    print(sess.run(t))\n",
    "    \n",
    "    print(\"\\nCost\")\n",
    "    r = cost\n",
    "    t = tf.Print(r, [r])\n",
    "    print(format(sess.run(t)))\n",
    "    \n",
    "    print(\"\\nThus squared mean error (COST) works\")"
   ]
  },
  {
   "cell_type": "code",
   "execution_count": 228,
   "metadata": {},
   "outputs": [
    {
     "name": "stdout",
     "output_type": "stream",
     "text": [
      "Input\n",
      "[[ 0.8169346 ]\n",
      " [-0.76930904]\n",
      " [ 0.48448038]\n",
      " [-0.82258797]\n",
      " [ 0.31413054]]\n",
      "\n",
      "Weights\n",
      "[[0.3696115 0.964466 ]]\n",
      "\n",
      "Prediction\n",
      "[[ 1.1575172 ]\n",
      " [-0.3723609 ]\n",
      " [ 0.83687633]\n",
      " [-0.4237466 ]\n",
      " [ 0.67257977]]\n",
      "\n",
      "1st Element Expectation\n",
      "1.1575171947479248 vs [1.1575172]\n",
      "\n",
      "Thus PREDICT works\n"
     ]
    }
   ],
   "source": [
    "# TESTING PREDICT FUNCTION\n",
    "\n",
    "with tf.Session() as sess:    \n",
    "    if 'Xhat' not in globals():\n",
    "        Xhat = tf.get_variable(\"Xhat\", [5,1]) # tf.float32, tf.glorot_uniform_initializer, by default\n",
    "    sess.run(tf.global_variables_initializer())\n",
    "    \n",
    "    model = LinearClassifier()\n",
    "    Yhat = model.predict(Xhat)\n",
    "    \n",
    "    print(\"Input\")\n",
    "    a = Xhat\n",
    "    b = tf.Print(a, [a])\n",
    "    print(sess.run(b))\n",
    "    \n",
    "    print(\"\\nWeights\")\n",
    "    c = model.weights\n",
    "    d = tf.Print(c, [c])\n",
    "    print(sess.run(d))\n",
    "    \n",
    "    print(\"\\nPrediction\")\n",
    "    e = Yhat\n",
    "    f = tf.Print(e, [e])\n",
    "    print(sess.run(f))\n",
    "\n",
    "    print(\"\\n1st Element Expectation\")\n",
    "    k = model.weights[0,0]*1 + model.weights[0,1]*Xhat[0,0]\n",
    "    p = tf.Print(k, [k])\n",
    "    print(\"{} vs {}\".format(sess.run(p), sess.run(f)[0]))\n",
    "    \n",
    "    print(\"\\nThus PREDICT works\")"
   ]
  },
  {
   "cell_type": "code",
   "execution_count": 229,
   "metadata": {},
   "outputs": [
    {
     "name": "stdout",
     "output_type": "stream",
     "text": [
      "Tensor(\"random_uniform_214:0\", shape=(1,), dtype=float32)\n",
      "[0.31084228]\n"
     ]
    }
   ],
   "source": [
    "# TF TEST: PRINTING TENSOR\n",
    "with tf.Session() as sess:\n",
    "    r = tf.random_uniform([1])\n",
    "    p = tf.Print(r, [r])\n",
    "    print(r)\n",
    "    print(sess.run(p))"
   ]
  },
  {
   "cell_type": "code",
   "execution_count": 230,
   "metadata": {},
   "outputs": [
    {
     "name": "stdout",
     "output_type": "stream",
     "text": [
      "[[169]\n",
      " [  0]]\n"
     ]
    }
   ],
   "source": [
    "# TF TEST: TENSOR OPERATIONS\n",
    "with tf.Session() as sess:\n",
    "    a = tf.Variable([[7],[11]], tf.int16)\n",
    "    b = tf.Variable([[20],[11]], tf.int16)\n",
    "    sess.run(tf.global_variables_initializer())\n",
    "    \n",
    "    r = (a - b)**2\n",
    "    p = tf.Print(r, [r])\n",
    "    print(sess.run(p))"
   ]
  },
  {
   "cell_type": "code",
   "execution_count": null,
   "metadata": {},
   "outputs": [],
   "source": []
  }
 ],
 "metadata": {
  "kernelspec": {
   "display_name": "Python 3",
   "language": "python",
   "name": "python3"
  },
  "language_info": {
   "codemirror_mode": {
    "name": "ipython",
    "version": 3
   },
   "file_extension": ".py",
   "mimetype": "text/x-python",
   "name": "python",
   "nbconvert_exporter": "python",
   "pygments_lexer": "ipython3",
   "version": "3.6.5"
  }
 },
 "nbformat": 4,
 "nbformat_minor": 2
}
